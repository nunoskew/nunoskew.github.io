{
 "cells": [
  {
   "cell_type": "code",
   "execution_count": 1,
   "metadata": {},
   "outputs": [],
   "source": [
    "import numpy as np\n",
    "import cv2"
   ]
  },
  {
   "cell_type": "code",
   "execution_count": 2,
   "metadata": {},
   "outputs": [],
   "source": [
    "img = cv2.imread('roybatty_100dpi.png')"
   ]
  },
  {
   "cell_type": "code",
   "execution_count": 3,
   "metadata": {},
   "outputs": [
    {
     "data": {
      "text/plain": [
       "(540, 754, 3)"
      ]
     },
     "execution_count": 3,
     "metadata": {},
     "output_type": "execute_result"
    }
   ],
   "source": [
    "img.shape"
   ]
  },
  {
   "cell_type": "code",
   "execution_count": 4,
   "metadata": {},
   "outputs": [],
   "source": [
    "img_r = img[:,:,0]\n",
    "img_g = img[:,:,1]\n",
    "img_b = img[:,:,2]"
   ]
  },
  {
   "cell_type": "code",
   "execution_count": 5,
   "metadata": {},
   "outputs": [
    {
     "data": {
      "text/plain": [
       "(540, 754)"
      ]
     },
     "execution_count": 5,
     "metadata": {},
     "output_type": "execute_result"
    }
   ],
   "source": [
    "img_r.shape"
   ]
  },
  {
   "cell_type": "code",
   "execution_count": 6,
   "metadata": {},
   "outputs": [],
   "source": [
    "interpolated_img_r = np.zeros((img_r.shape[0]*2-1,img_r.shape[1]*2-1))\n",
    "interpolated_img_g = np.zeros((img_r.shape[0]*2-1,img_r.shape[1]*2-1))\n",
    "interpolated_img_b = np.zeros((img_r.shape[0]*2-1,img_r.shape[1]*2-1))"
   ]
  },
  {
   "cell_type": "code",
   "execution_count": 8,
   "metadata": {},
   "outputs": [],
   "source": [
    "def place_pixel(interpolated_mat,mat):\n",
    "    for i in range(interpolated_mat.shape[0]):\n",
    "        for j in range(interpolated_mat.shape[1]):\n",
    "            if i%2==0 and j%2==0:\n",
    "                interpolated_mat[i,j]=mat[int(i/2),int(j/2)]\n",
    "    return interpolated_mat"
   ]
  },
  {
   "cell_type": "code",
   "execution_count": 9,
   "metadata": {},
   "outputs": [],
   "source": [
    "def interpolate_pixel(mat):\n",
    "    for i in range(mat.shape[0]):\n",
    "        for j in range(mat.shape[1]):\n",
    "            if i%2!=0 and j%2!=0:\n",
    "                mat[i,j]=np.mean([mat[i-1,j-1],mat[i-1,j+1],mat[i+1,j-1],mat[i+1,j+1]])\n",
    "            elif i%2!=0 and j%2==0:\n",
    "                mat[i,j]=np.mean([mat[i-1,j],mat[i+1,j]])\n",
    "            elif i%2==0 and j%2!=0:\n",
    "                mat[i,j]=np.mean([mat[i,j-1],mat[i,j+1]])\n",
    "    return mat"
   ]
  },
  {
   "cell_type": "code",
   "execution_count": 10,
   "metadata": {},
   "outputs": [],
   "source": [
    "interpolated_img_r = place_pixel(interpolated_img_r,img_r)\n",
    "interpolated_img_g = place_pixel(interpolated_img_g,img_g)\n",
    "interpolated_img_b = place_pixel(interpolated_img_b,img_b)"
   ]
  },
  {
   "cell_type": "code",
   "execution_count": 12,
   "metadata": {},
   "outputs": [],
   "source": [
    "interpolated_img_r_ = interpolate_pixel(interpolated_img_r)\n",
    "interpolated_img_g_ = interpolate_pixel(interpolated_img_g)\n",
    "interpolated_img_b_ = interpolate_pixel(interpolated_img_b)"
   ]
  },
  {
   "cell_type": "code",
   "execution_count": 13,
   "metadata": {},
   "outputs": [],
   "source": [
    "new_img = np.zeros((img_r.shape[0]*2-1,img_r.shape[1]*2-1,3))\n",
    "new_img[:,:,0] = interpolated_img_r_\n",
    "new_img[:,:,1] = interpolated_img_g_\n",
    "new_img[:,:,2] = interpolated_img_b_"
   ]
  },
  {
   "cell_type": "code",
   "execution_count": 14,
   "metadata": {},
   "outputs": [
    {
     "data": {
      "text/plain": [
       "True"
      ]
     },
     "execution_count": 14,
     "metadata": {},
     "output_type": "execute_result"
    }
   ],
   "source": [
    "cv2.imwrite('image.png',new_img)"
   ]
  }
 ],
 "metadata": {
  "kernelspec": {
   "display_name": "Python 3",
   "language": "python",
   "name": "python3"
  },
  "language_info": {
   "codemirror_mode": {
    "name": "ipython",
    "version": 3
   },
   "file_extension": ".py",
   "mimetype": "text/x-python",
   "name": "python",
   "nbconvert_exporter": "python",
   "pygments_lexer": "ipython3",
   "version": "3.7.6"
  }
 },
 "nbformat": 4,
 "nbformat_minor": 4
}
